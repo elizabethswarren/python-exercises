{
 "cells": [
  {
   "cell_type": "markdown",
   "id": "966b2add",
   "metadata": {},
   "source": [
    "# Function Exercises"
   ]
  },
  {
   "cell_type": "markdown",
   "id": "35b6c976",
   "metadata": {},
   "source": [
    "## 1."
   ]
  },
  {
   "cell_type": "code",
   "execution_count": 6,
   "id": "3ec55b85",
   "metadata": {},
   "outputs": [],
   "source": [
    "def is_two(n):\n",
    "    if n == 2 or n == '2':\n",
    "        return True\n",
    "    else:\n",
    "        return False"
   ]
  },
  {
   "cell_type": "code",
   "execution_count": 5,
   "id": "e243044d",
   "metadata": {},
   "outputs": [
    {
     "data": {
      "text/plain": [
       "False"
      ]
     },
     "execution_count": 5,
     "metadata": {},
     "output_type": "execute_result"
    }
   ],
   "source": [
    "is_two(3)"
   ]
  },
  {
   "cell_type": "markdown",
   "id": "487179e7",
   "metadata": {},
   "source": [
    "## 2."
   ]
  },
  {
   "cell_type": "code",
   "execution_count": 11,
   "id": "840a2449",
   "metadata": {},
   "outputs": [],
   "source": [
    "def is_vowel(l):\n",
    "    if l.lower() in 'aeiou':\n",
    "        return True\n",
    "    else:\n",
    "        return False"
   ]
  },
  {
   "cell_type": "code",
   "execution_count": 13,
   "id": "8d1874c6",
   "metadata": {},
   "outputs": [
    {
     "data": {
      "text/plain": [
       "False"
      ]
     },
     "execution_count": 13,
     "metadata": {},
     "output_type": "execute_result"
    }
   ],
   "source": [
    "is_vowel('B')"
   ]
  },
  {
   "cell_type": "markdown",
   "id": "61640559",
   "metadata": {},
   "source": [
    "## 3."
   ]
  },
  {
   "cell_type": "code",
   "execution_count": 16,
   "id": "35abf937",
   "metadata": {},
   "outputs": [],
   "source": [
    "def is_consonant(c):\n",
    "    if c.lower() not in 'aeiou':\n",
    "        return True\n",
    "    else:\n",
    "        return False"
   ]
  },
  {
   "cell_type": "code",
   "execution_count": 18,
   "id": "cd3fa9c5",
   "metadata": {},
   "outputs": [
    {
     "data": {
      "text/plain": [
       "False"
      ]
     },
     "execution_count": 18,
     "metadata": {},
     "output_type": "execute_result"
    }
   ],
   "source": [
    "is_consonant('a')"
   ]
  },
  {
   "cell_type": "markdown",
   "id": "6cc5f114",
   "metadata": {},
   "source": [
    "## 4."
   ]
  },
  {
   "cell_type": "code",
   "execution_count": 23,
   "id": "dcbd8f9f",
   "metadata": {},
   "outputs": [],
   "source": [
    "def capital_first_letter(w):\n",
    "    for letter in w.lower():\n",
    "        if letter[0] not in 'aeiou':\n",
    "            return letter[0].upper() + w[1:].lower()\n",
    "        else:\n",
    "            return w"
   ]
  },
  {
   "cell_type": "code",
   "execution_count": 24,
   "id": "8033bc69",
   "metadata": {},
   "outputs": [
    {
     "data": {
      "text/plain": [
       "'animal'"
      ]
     },
     "execution_count": 24,
     "metadata": {},
     "output_type": "execute_result"
    }
   ],
   "source": [
    "capital_first_letter('animal')"
   ]
  },
  {
   "cell_type": "markdown",
   "id": "37e34889",
   "metadata": {},
   "source": [
    "## 5."
   ]
  },
  {
   "cell_type": "code",
   "execution_count": 137,
   "id": "45c4c4b4",
   "metadata": {},
   "outputs": [],
   "source": [
    "def calculate_tip(t, b):\n",
    "    if t > 0 and t <= 1:\n",
    "        amount_to_tip = t * b\n",
    "        return (f'Recommended tip: ${round(amount_to_tip, 2)}')"
   ]
  },
  {
   "cell_type": "code",
   "execution_count": 138,
   "id": "e2710895",
   "metadata": {},
   "outputs": [
    {
     "data": {
      "text/plain": [
       "'Recommended tip: $7.47'"
      ]
     },
     "execution_count": 138,
     "metadata": {},
     "output_type": "execute_result"
    }
   ],
   "source": [
    "calculate_tip(0.3, 24.89)"
   ]
  },
  {
   "cell_type": "markdown",
   "id": "28e8cf88",
   "metadata": {},
   "source": [
    "## 6."
   ]
  },
  {
   "cell_type": "code",
   "execution_count": 139,
   "id": "68d78b41",
   "metadata": {},
   "outputs": [],
   "source": [
    "def apply_discount(p, d):\n",
    "    if d > 0 and d <= 1:\n",
    "        discount_amount = p * d\n",
    "        return (f'Your new discounted price is {round((p - discount_amount), 2)}')"
   ]
  },
  {
   "cell_type": "code",
   "execution_count": 140,
   "id": "16270dcd",
   "metadata": {},
   "outputs": [
    {
     "data": {
      "text/plain": [
       "'Your new discounted price is 95.93'"
      ]
     },
     "execution_count": 140,
     "metadata": {},
     "output_type": "execute_result"
    }
   ],
   "source": [
    "apply_discount(159.89, 0.4)"
   ]
  },
  {
   "cell_type": "markdown",
   "id": "efe1a611",
   "metadata": {},
   "source": [
    "## 7."
   ]
  },
  {
   "cell_type": "code",
   "execution_count": 89,
   "id": "59c42679",
   "metadata": {},
   "outputs": [],
   "source": [
    "# def handle_commas(num):\n",
    "#     for digit in num:\n",
    "#         if digit == ',':\n",
    "#             num = num.replace(',', '')\n",
    "#             return int(num)"
   ]
  },
  {
   "cell_type": "code",
   "execution_count": 92,
   "id": "40bbdae7",
   "metadata": {},
   "outputs": [
    {
     "data": {
      "text/plain": [
       "1000"
      ]
     },
     "execution_count": 92,
     "metadata": {},
     "output_type": "execute_result"
    }
   ],
   "source": [
    "handle_commas('1,000')"
   ]
  },
  {
   "cell_type": "markdown",
   "id": "95c35094",
   "metadata": {},
   "source": [
    "## 8."
   ]
  },
  {
   "cell_type": "code",
   "execution_count": 143,
   "id": "8ac3c6e8",
   "metadata": {},
   "outputs": [],
   "source": [
    "def handle_commas(num):\n",
    "    num = num.replace(',','')\n",
    "    return int(num)"
   ]
  },
  {
   "cell_type": "code",
   "execution_count": 144,
   "id": "d7a99627",
   "metadata": {},
   "outputs": [
    {
     "data": {
      "text/plain": [
       "1000000"
      ]
     },
     "execution_count": 144,
     "metadata": {},
     "output_type": "execute_result"
    }
   ],
   "source": [
    "handle_commas('1,000,000')"
   ]
  },
  {
   "cell_type": "markdown",
   "id": "0aeb1da1",
   "metadata": {},
   "source": [
    "## 9."
   ]
  },
  {
   "cell_type": "code",
   "execution_count": null,
   "id": "850ede77",
   "metadata": {},
   "outputs": [],
   "source": []
  }
 ],
 "metadata": {
  "kernelspec": {
   "display_name": "Python 3 (ipykernel)",
   "language": "python",
   "name": "python3"
  },
  "language_info": {
   "codemirror_mode": {
    "name": "ipython",
    "version": 3
   },
   "file_extension": ".py",
   "mimetype": "text/x-python",
   "name": "python",
   "nbconvert_exporter": "python",
   "pygments_lexer": "ipython3",
   "version": "3.10.9"
  }
 },
 "nbformat": 4,
 "nbformat_minor": 5
}
