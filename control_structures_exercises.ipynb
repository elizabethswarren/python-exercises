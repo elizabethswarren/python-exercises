{
 "cells": [
  {
   "cell_type": "markdown",
   "id": "336a67a9",
   "metadata": {},
   "source": [
    "# Control Structures Exercises"
   ]
  },
  {
   "cell_type": "markdown",
   "id": "79c9bf95",
   "metadata": {},
   "source": [
    "## 1."
   ]
  },
  {
   "cell_type": "markdown",
   "id": "9494fb7e",
   "metadata": {},
   "source": [
    "### a."
   ]
  },
  {
   "cell_type": "code",
   "execution_count": null,
   "id": "6ef001ce",
   "metadata": {},
   "outputs": [],
   "source": [
    "prompt = input('What is the day of the week today?:').lower()\n",
    "if prompt == 'monday':\n",
    "    print('It is Monday.')\n",
    "else:\n",
    "    print('It is not Monday.')"
   ]
  },
  {
   "cell_type": "markdown",
   "id": "83707aad",
   "metadata": {},
   "source": [
    "### b."
   ]
  },
  {
   "cell_type": "code",
   "execution_count": null,
   "id": "643534c6",
   "metadata": {},
   "outputs": [],
   "source": [
    "prompt2 = input('What is the day today?:').lower()\n",
    "if prompt2 == 'monday':\n",
    "    print('It is a weekday.')\n",
    "elif prompt2 == 'tuesday':\n",
    "    print('It is a weekday')\n",
    "elif prompt2 == 'wednesday':\n",
    "    print('It is a weekday')\n",
    "elif prompt2 == 'thursday':\n",
    "    print('It is a weekday')\n",
    "elif prompt2 == 'friday':\n",
    "    print('It is a weekday')\n",
    "else:\n",
    "    print('It is the weekend! yay!.')"
   ]
  },
  {
   "cell_type": "markdown",
   "id": "0cafb5ca",
   "metadata": {},
   "source": [
    "### c."
   ]
  },
  {
   "cell_type": "code",
   "execution_count": 12,
   "id": "4ece5935",
   "metadata": {},
   "outputs": [
    {
     "name": "stdout",
     "output_type": "stream",
     "text": [
      "1000\n"
     ]
    }
   ],
   "source": [
    "hours_worked_in_week = 40\n",
    "hourly_rate = 25\n",
    "\n",
    "if hours in range(41):\n",
    "    hourly_rate == hourly_rate\n",
    "else:\n",
    "    hourly_rate *= 1.5\n",
    "\n",
    "pay_for_week = hourly_rate * hours_worked_in_week\n",
    "print(pay_for_week)"
   ]
  },
  {
   "cell_type": "code",
   "execution_count": 49,
   "id": "e50e56bc",
   "metadata": {},
   "outputs": [
    {
     "name": "stdout",
     "output_type": "stream",
     "text": [
      "$37.5\n"
     ]
    }
   ],
   "source": [
    "hourly_rate = 25\n",
    "hours_worked_per_week = 41\n",
    "\n",
    "\n",
    "for hours in range(hours_worked_per_week + 1):\n",
    "    if hours <= 40:\n",
    "        hourly_rate == ourly_rate\n",
    "    if hours > 40:\n",
    "        hourly_rate *= 1.5\n",
    "\n",
    "pay_for_week = hourly_rate * hours_worked_per_week\n",
    "print(f'${pay_for_week}')"
   ]
  },
  {
   "cell_type": "markdown",
   "id": "4251b214",
   "metadata": {},
   "source": [
    "## 2."
   ]
  },
  {
   "cell_type": "markdown",
   "id": "0475e1cb",
   "metadata": {},
   "source": [
    "### a."
   ]
  },
  {
   "cell_type": "code",
   "execution_count": 4,
   "id": "d1f7d9d9",
   "metadata": {},
   "outputs": [
    {
     "name": "stdout",
     "output_type": "stream",
     "text": [
      "5\n",
      "6\n",
      "7\n",
      "8\n",
      "9\n",
      "10\n",
      "11\n",
      "12\n",
      "13\n",
      "14\n",
      "15\n"
     ]
    }
   ],
   "source": [
    "i = 5\n",
    "\n",
    "while i <= 15:\n",
    "    print(i)\n",
    "    i += 1"
   ]
  },
  {
   "cell_type": "code",
   "execution_count": 6,
   "id": "1d27259e",
   "metadata": {},
   "outputs": [
    {
     "name": "stdout",
     "output_type": "stream",
     "text": [
      "0\n",
      "2\n",
      "4\n",
      "6\n",
      "8\n",
      "10\n",
      "12\n",
      "14\n",
      "16\n",
      "18\n",
      "20\n",
      "22\n",
      "24\n",
      "26\n",
      "28\n",
      "30\n",
      "32\n",
      "34\n",
      "36\n",
      "38\n",
      "40\n",
      "42\n",
      "44\n",
      "46\n",
      "48\n",
      "50\n",
      "52\n",
      "54\n",
      "56\n",
      "58\n",
      "60\n",
      "62\n",
      "64\n",
      "66\n",
      "68\n",
      "70\n",
      "72\n",
      "74\n",
      "76\n",
      "78\n",
      "80\n",
      "82\n",
      "84\n",
      "86\n",
      "88\n",
      "90\n",
      "92\n",
      "94\n",
      "96\n",
      "98\n",
      "100\n"
     ]
    }
   ],
   "source": [
    "i = 0\n",
    "\n",
    "while i <= 100:\n",
    "    print(i)\n",
    "    i += 2"
   ]
  },
  {
   "cell_type": "code",
   "execution_count": 7,
   "id": "e4289752",
   "metadata": {},
   "outputs": [
    {
     "name": "stdout",
     "output_type": "stream",
     "text": [
      "2\n",
      "4\n",
      "16\n",
      "256\n",
      "65536\n"
     ]
    }
   ],
   "source": [
    "i = 2\n",
    "\n",
    "while i <= 1000000:\n",
    "    print(i)\n",
    "    i **= 2"
   ]
  },
  {
   "cell_type": "code",
   "execution_count": 8,
   "id": "f5e7f845",
   "metadata": {},
   "outputs": [
    {
     "name": "stdout",
     "output_type": "stream",
     "text": [
      "100\n",
      "95\n",
      "90\n",
      "85\n",
      "80\n",
      "75\n",
      "70\n",
      "65\n",
      "60\n",
      "55\n",
      "50\n",
      "45\n",
      "40\n",
      "35\n",
      "30\n",
      "25\n",
      "20\n",
      "15\n",
      "10\n",
      "5\n"
     ]
    }
   ],
   "source": [
    "i = 100\n",
    "\n",
    "while i > 0:\n",
    "    print(i)\n",
    "    i -= 5"
   ]
  },
  {
   "cell_type": "markdown",
   "id": "744c3561",
   "metadata": {},
   "source": [
    "### b."
   ]
  },
  {
   "cell_type": "code",
   "execution_count": 11,
   "id": "937c0082",
   "metadata": {},
   "outputs": [
    {
     "name": "stdout",
     "output_type": "stream",
     "text": [
      "Show times table for number:9\n",
      "9 x 1 = 9\n",
      "9 x 2 = 18\n",
      "9 x 3 = 27\n",
      "9 x 4 = 36\n",
      "9 x 5 = 45\n",
      "9 x 6 = 54\n",
      "9 x 7 = 63\n",
      "9 x 8 = 72\n",
      "9 x 9 = 81\n",
      "9 x 10 = 90\n"
     ]
    }
   ],
   "source": [
    "input_number = int(input('Show times table for number:'))\n",
    "for number in range(1,11):\n",
    "    sum = input_number * number\n",
    "    print(f'{input_number} x {number} = {sum}')"
   ]
  },
  {
   "cell_type": "code",
   "execution_count": 11,
   "id": "837609bf",
   "metadata": {
    "scrolled": true
   },
   "outputs": [
    {
     "name": "stdout",
     "output_type": "stream",
     "text": [
      "1\n",
      "2\n",
      "3\n",
      "4\n",
      "5\n",
      "6\n",
      "7\n",
      "8\n",
      "9\n"
     ]
    }
   ],
   "source": [
    "numbers = range(0,9)\n",
    "for number in numbers:\n",
    "    number += 1\n",
    "    print(number)\n"
   ]
  },
  {
   "cell_type": "code",
   "execution_count": 7,
   "id": "9dc8f2b4",
   "metadata": {},
   "outputs": [
    {
     "name": "stdout",
     "output_type": "stream",
     "text": [
      "Type in any positive number:10\n",
      "10\n",
      "9\n",
      "8\n",
      "7\n",
      "6\n",
      "5\n",
      "4\n",
      "3\n",
      "2\n",
      "1\n"
     ]
    }
   ],
   "source": [
    "pos_number_prompt = int(input('Type in any positive number:'))\n",
    "\n",
    "while pos_number_prompt > 0:\n",
    "    print(pos_number_prompt)\n",
    "    pos_number_prompt -= 1"
   ]
  },
  {
   "cell_type": "code",
   "execution_count": 6,
   "id": "4218f080",
   "metadata": {},
   "outputs": [
    {
     "name": "stdout",
     "output_type": "stream",
     "text": [
      "Type in any positive number:3\n",
      "0\n",
      "1\n",
      "2\n",
      "3\n"
     ]
    }
   ],
   "source": [
    "pos_number_prompt = int(input('Type in any positive number:'))\n",
    "\n",
    "for number in range(-1,pos_number_prompt):\n",
    "    number += 1\n",
    "    print(number)"
   ]
  },
  {
   "cell_type": "code",
   "execution_count": null,
   "id": "c5a147e8",
   "metadata": {},
   "outputs": [
    {
     "name": "stdout",
     "output_type": "stream",
     "text": [
      "Type in any odd number between 1 and 50:a\n"
     ]
    }
   ],
   "source": [
    "odd_number_prompt = input('Type in any odd number between 1 and 50:')\n",
    "    \n",
    "while odd_number_prompt.isdigit() is False:\n",
    "    if odd_number_prompt.isdigit() is True:\n",
    "        break"
   ]
  },
  {
   "cell_type": "markdown",
   "id": "b4c65e99",
   "metadata": {},
   "source": [
    "## 3."
   ]
  },
  {
   "cell_type": "code",
   "execution_count": 5,
   "id": "23ecf5a6",
   "metadata": {},
   "outputs": [
    {
     "name": "stdout",
     "output_type": "stream",
     "text": [
      "1\n",
      "2\n",
      "Fizz\n",
      "4\n",
      "Buzz\n",
      "Fizz\n",
      "7\n",
      "8\n",
      "Fizz\n",
      "Buzz\n",
      "11\n",
      "Fizz\n",
      "13\n",
      "14\n",
      "FizzBuzz\n",
      "16\n",
      "17\n",
      "Fizz\n",
      "19\n",
      "Buzz\n",
      "Fizz\n",
      "22\n",
      "23\n",
      "Fizz\n",
      "Buzz\n",
      "26\n",
      "Fizz\n",
      "28\n",
      "29\n",
      "FizzBuzz\n",
      "31\n",
      "32\n",
      "Fizz\n",
      "34\n",
      "Buzz\n",
      "Fizz\n",
      "37\n",
      "38\n",
      "Fizz\n",
      "Buzz\n",
      "41\n",
      "Fizz\n",
      "43\n",
      "44\n",
      "FizzBuzz\n",
      "46\n",
      "47\n",
      "Fizz\n",
      "49\n",
      "Buzz\n",
      "Fizz\n",
      "52\n",
      "53\n",
      "Fizz\n",
      "Buzz\n",
      "56\n",
      "Fizz\n",
      "58\n",
      "59\n",
      "FizzBuzz\n",
      "61\n",
      "62\n",
      "Fizz\n",
      "64\n",
      "Buzz\n",
      "Fizz\n",
      "67\n",
      "68\n",
      "Fizz\n",
      "Buzz\n",
      "71\n",
      "Fizz\n",
      "73\n",
      "74\n",
      "FizzBuzz\n",
      "76\n",
      "77\n",
      "Fizz\n",
      "79\n",
      "Buzz\n",
      "Fizz\n",
      "82\n",
      "83\n",
      "Fizz\n",
      "Buzz\n",
      "86\n",
      "Fizz\n",
      "88\n",
      "89\n",
      "FizzBuzz\n",
      "91\n",
      "92\n",
      "Fizz\n",
      "94\n",
      "Buzz\n",
      "Fizz\n",
      "97\n",
      "98\n",
      "Fizz\n",
      "Buzz\n"
     ]
    }
   ],
   "source": [
    "for number in range(1,101):\n",
    "    if number % 3 == 0 and number % 5 == 0:\n",
    "        number = 'FizzBuzz'\n",
    "    elif number % 3 == 0:\n",
    "        number = 'Fizz'\n",
    "    elif number % 5 == 0:\n",
    "        number = 'Buzz'\n",
    "    print(number)"
   ]
  },
  {
   "cell_type": "markdown",
   "id": "b12cdcdc",
   "metadata": {},
   "source": [
    "## 4."
   ]
  },
  {
   "cell_type": "code",
   "execution_count": 6,
   "id": "c5546fe2",
   "metadata": {},
   "outputs": [
    {
     "name": "stdout",
     "output_type": "stream",
     "text": [
      "What number would you like to go up to? 5\n",
      "\n",
      "Here is your table!\n",
      "\n",
      "number | squared | cubed\n",
      "-------|---------|------\n",
      "1      | 1       | 1\n",
      "2      | 4       | 8\n",
      "3      | 9       | 27\n",
      "4      | 16       | 64\n",
      "5      | 25       | 125\n",
      "\n",
      "Would you like to continue? yes\n"
     ]
    }
   ],
   "source": [
    "int_prompt = int(input('What number would you like to go up to? '))\n",
    "\n",
    "print('\\nHere is your table!')\n",
    "print('\\nnumber | squared | cubed')\n",
    "print('-------|---------|------')\n",
    "for number in range(1, int_prompt + 1):\n",
    "    squared_number = number ** 2\n",
    "    cubed_number = number ** 3\n",
    "    print(f'{number}      | {squared_number}       | {cubed_number}')\n",
    "    \n",
    "verify = input('\\nWould you like to continue? ').lower()\n",
    "if verify == 'no':\n",
    "    print('\\nGood bye.')\n",
    "   "
   ]
  },
  {
   "cell_type": "markdown",
   "id": "b57e5e4c",
   "metadata": {},
   "source": [
    "## 5."
   ]
  },
  {
   "cell_type": "code",
   "execution_count": null,
   "id": "e749f7bb",
   "metadata": {},
   "outputs": [],
   "source": [
    "grade_prompt = int(input('Enter a numerical grade between 0 - 100:'))\n",
    "\n",
    "for grade in range(grade_prompt + 1):\n",
    "    "
   ]
  }
 ],
 "metadata": {
  "kernelspec": {
   "display_name": "Python 3 (ipykernel)",
   "language": "python",
   "name": "python3"
  },
  "language_info": {
   "codemirror_mode": {
    "name": "ipython",
    "version": 3
   },
   "file_extension": ".py",
   "mimetype": "text/x-python",
   "name": "python",
   "nbconvert_exporter": "python",
   "pygments_lexer": "ipython3",
   "version": "3.10.9"
  }
 },
 "nbformat": 4,
 "nbformat_minor": 5
}
