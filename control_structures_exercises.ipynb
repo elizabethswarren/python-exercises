{
 "cells": [
  {
   "cell_type": "markdown",
   "id": "336a67a9",
   "metadata": {},
   "source": [
    "# Control Structures Exercises"
   ]
  },
  {
   "cell_type": "markdown",
   "id": "79c9bf95",
   "metadata": {},
   "source": [
    "## 1."
   ]
  },
  {
   "cell_type": "markdown",
   "id": "9494fb7e",
   "metadata": {},
   "source": [
    "### a."
   ]
  },
  {
   "cell_type": "code",
   "execution_count": 6,
   "id": "6ef001ce",
   "metadata": {},
   "outputs": [
    {
     "name": "stdout",
     "output_type": "stream",
     "text": [
      "What is the day of the week today?:Monday\n",
      "It is Monday.\n"
     ]
    }
   ],
   "source": [
    "prompt = input('What is the day of the week today?:').lower()\n",
    "if prompt == 'monday':\n",
    "    print('It is Monday.')\n",
    "else:\n",
    "    print('It is not Monday.')"
   ]
  },
  {
   "cell_type": "markdown",
   "id": "83707aad",
   "metadata": {},
   "source": [
    "### b."
   ]
  },
  {
   "cell_type": "code",
   "execution_count": 7,
   "id": "643534c6",
   "metadata": {},
   "outputs": [
    {
     "ename": "SyntaxError",
     "evalue": "invalid syntax (1677041806.py, line 15)",
     "output_type": "error",
     "traceback": [
      "\u001b[0;36m  Cell \u001b[0;32mIn[7], line 15\u001b[0;36m\u001b[0m\n\u001b[0;31m    Instructor Answer:\u001b[0m\n\u001b[0m               ^\u001b[0m\n\u001b[0;31mSyntaxError\u001b[0m\u001b[0;31m:\u001b[0m invalid syntax\n"
     ]
    }
   ],
   "source": [
    "prompt2 = input('What is the day today?:').lower()\n",
    "if prompt2 == 'monday':\n",
    "    print('It is a weekday.')\n",
    "elif prompt2 == 'tuesday':\n",
    "    print('It is a weekday')\n",
    "elif prompt2 == 'wednesday':\n",
    "    print('It is a weekday')\n",
    "elif prompt2 == 'thursday':\n",
    "    print('It is a weekday')\n",
    "elif prompt2 == 'friday':\n",
    "    print('It is a weekday')\n",
    "else:\n",
    "    print('It is the weekend! yay!.')\n",
    "    \n",
    "# Instructor Answer:\n",
    "# if prompt2.lower() in ['saturday', 'sunday']:\n",
    "#     print('It is the weekend')\n",
    "# else:\n",
    "#     print('It is a weekday')"
   ]
  },
  {
   "cell_type": "markdown",
   "id": "0cafb5ca",
   "metadata": {},
   "source": [
    "### c."
   ]
  },
  {
   "cell_type": "code",
   "execution_count": 8,
   "id": "4ece5935",
   "metadata": {},
   "outputs": [
    {
     "ename": "SyntaxError",
     "evalue": "invalid syntax (1540388312.py, line 12)",
     "output_type": "error",
     "traceback": [
      "\u001b[0;36m  Cell \u001b[0;32mIn[8], line 12\u001b[0;36m\u001b[0m\n\u001b[0;31m    Instructor Answer:\u001b[0m\n\u001b[0m               ^\u001b[0m\n\u001b[0;31mSyntaxError\u001b[0m\u001b[0;31m:\u001b[0m invalid syntax\n"
     ]
    }
   ],
   "source": [
    "hours_worked_in_week = 40\n",
    "hourly_rate = 25\n",
    "\n",
    "if hours in range(41):\n",
    "    hourly_rate == hourly_rate\n",
    "else:\n",
    "    hourly_rate *= 1.5\n",
    "\n",
    "pay_for_week = hourly_rate * hours_worked_in_week\n",
    "print(pay_for_week)\n",
    "\n",
    "# Instructor Answer:\n",
    "\n",
    "# hours_worked = 50\n",
    "# hourly_rate = 100\n",
    "\n",
    "# if hours_worked <= 40:\n",
    "#     paycheck = hours_worked * hourly_rate\n",
    "#     print(f'Your pay is $ {paycheck}')\n",
    "# else:\n",
    "#     ot_hours = hours_worked - 40\n",
    "#     overtime_rate = hourly_rate * 1.5\n",
    "#     overtime_paycheck = (40 * hourly_rate) + (overtime_hours * overtime_rate)\n",
    "#     print(f'Your pay with overtime included is {overtime_paycheck}')"
   ]
  },
  {
   "cell_type": "code",
   "execution_count": 49,
   "id": "e50e56bc",
   "metadata": {},
   "outputs": [
    {
     "name": "stdout",
     "output_type": "stream",
     "text": [
      "$37.5\n"
     ]
    }
   ],
   "source": [
    "hourly_rate = 25\n",
    "hours_worked_per_week = 41\n",
    "\n",
    "\n",
    "for hours in range(hours_worked_per_week + 1):\n",
    "    if hours <= 40:\n",
    "        hourly_rate == hourly_rate\n",
    "    if hours > 40:\n",
    "        hourly_rate *= 1.5\n",
    "\n",
    "pay_for_week = hourly_rate * hours_worked_per_week\n",
    "print(f'${pay_for_week}')"
   ]
  },
  {
   "cell_type": "markdown",
   "id": "4251b214",
   "metadata": {},
   "source": [
    "## 2."
   ]
  },
  {
   "cell_type": "markdown",
   "id": "0475e1cb",
   "metadata": {},
   "source": [
    "### a."
   ]
  },
  {
   "cell_type": "code",
   "execution_count": 4,
   "id": "d1f7d9d9",
   "metadata": {},
   "outputs": [
    {
     "name": "stdout",
     "output_type": "stream",
     "text": [
      "5\n",
      "6\n",
      "7\n",
      "8\n",
      "9\n",
      "10\n",
      "11\n",
      "12\n",
      "13\n",
      "14\n",
      "15\n"
     ]
    }
   ],
   "source": [
    "i = 5\n",
    "\n",
    "while i <= 15:\n",
    "    print(i)\n",
    "    i += 1"
   ]
  },
  {
   "cell_type": "code",
   "execution_count": 6,
   "id": "1d27259e",
   "metadata": {
    "scrolled": true
   },
   "outputs": [
    {
     "name": "stdout",
     "output_type": "stream",
     "text": [
      "0\n",
      "2\n",
      "4\n",
      "6\n",
      "8\n",
      "10\n",
      "12\n",
      "14\n",
      "16\n",
      "18\n",
      "20\n",
      "22\n",
      "24\n",
      "26\n",
      "28\n",
      "30\n",
      "32\n",
      "34\n",
      "36\n",
      "38\n",
      "40\n",
      "42\n",
      "44\n",
      "46\n",
      "48\n",
      "50\n",
      "52\n",
      "54\n",
      "56\n",
      "58\n",
      "60\n",
      "62\n",
      "64\n",
      "66\n",
      "68\n",
      "70\n",
      "72\n",
      "74\n",
      "76\n",
      "78\n",
      "80\n",
      "82\n",
      "84\n",
      "86\n",
      "88\n",
      "90\n",
      "92\n",
      "94\n",
      "96\n",
      "98\n",
      "100\n"
     ]
    }
   ],
   "source": [
    "i = 0\n",
    "\n",
    "while i <= 100:\n",
    "    print(i)\n",
    "    i += 2"
   ]
  },
  {
   "cell_type": "code",
   "execution_count": 4,
   "id": "e4289752",
   "metadata": {},
   "outputs": [
    {
     "name": "stdout",
     "output_type": "stream",
     "text": [
      "2\n",
      "4\n",
      "16\n",
      "256\n",
      "65536\n"
     ]
    }
   ],
   "source": [
    "i = 2\n",
    "\n",
    "while i <= 1000000:\n",
    "    print(i)\n",
    "    i **= 2\n",
    "    \n",
    "# Instructor Answer:\n",
    "# while i < 1.0e6:\n",
    "#     print(i)\n",
    "#     i **= 2"
   ]
  },
  {
   "cell_type": "code",
   "execution_count": 8,
   "id": "f5e7f845",
   "metadata": {},
   "outputs": [
    {
     "name": "stdout",
     "output_type": "stream",
     "text": [
      "100\n",
      "95\n",
      "90\n",
      "85\n",
      "80\n",
      "75\n",
      "70\n",
      "65\n",
      "60\n",
      "55\n",
      "50\n",
      "45\n",
      "40\n",
      "35\n",
      "30\n",
      "25\n",
      "20\n",
      "15\n",
      "10\n",
      "5\n"
     ]
    }
   ],
   "source": [
    "i = 100\n",
    "\n",
    "while i > 0:\n",
    "    print(i)\n",
    "    i -= 5"
   ]
  },
  {
   "cell_type": "markdown",
   "id": "744c3561",
   "metadata": {},
   "source": [
    "### b."
   ]
  },
  {
   "cell_type": "code",
   "execution_count": 11,
   "id": "937c0082",
   "metadata": {},
   "outputs": [
    {
     "name": "stdout",
     "output_type": "stream",
     "text": [
      "Show times table for number:9\n",
      "9 x 1 = 9\n",
      "9 x 2 = 18\n",
      "9 x 3 = 27\n",
      "9 x 4 = 36\n",
      "9 x 5 = 45\n",
      "9 x 6 = 54\n",
      "9 x 7 = 63\n",
      "9 x 8 = 72\n",
      "9 x 9 = 81\n",
      "9 x 10 = 90\n"
     ]
    }
   ],
   "source": [
    "input_number = int(input('Show times table for number:'))\n",
    "for number in range(1,11):\n",
    "    sum = input_number * number\n",
    "    print(f'{input_number} x {number} = {sum}')\n",
    "    \n",
    "# Instructor Answer:\n",
    "# input_number = int(input('Show times table for number:'))\n",
    "# for number in range(1,11):\n",
    "#     print(f'{input_number} x {number} = {user_input * number}')"
   ]
  },
  {
   "cell_type": "code",
   "execution_count": 6,
   "id": "837609bf",
   "metadata": {
    "scrolled": true
   },
   "outputs": [
    {
     "name": "stdout",
     "output_type": "stream",
     "text": [
      "1\n",
      "22\n",
      "333\n",
      "4444\n",
      "55555\n",
      "666666\n",
      "7777777\n",
      "88888888\n",
      "999999999\n"
     ]
    }
   ],
   "source": [
    "numbers = range(0,9)\n",
    "for number in numbers:\n",
    "    number += 1\n",
    "    print(number)\n",
    "    \n",
    "# Instructor Answer:\n",
    "\n",
    "# for number in range(1,10):\n",
    "#     print(str(number) * number)\n"
   ]
  },
  {
   "cell_type": "code",
   "execution_count": 7,
   "id": "9dc8f2b4",
   "metadata": {},
   "outputs": [
    {
     "name": "stdout",
     "output_type": "stream",
     "text": [
      "Give me a positive integer: 10\n",
      "10\n",
      "9\n",
      "8\n",
      "7\n",
      "6\n",
      "5\n",
      "4\n",
      "3\n",
      "2\n",
      "1\n"
     ]
    }
   ],
   "source": [
    "pos_number_prompt = int(input('Type in any positive number:'))\n",
    "\n",
    "while pos_number_prompt > 0:\n",
    "    print(pos_number_prompt)\n",
    "    pos_number_prompt -= 1\n",
    "    \n",
    "# Instructor Answer:\n",
    "\n",
    "# while True:\n",
    "#     user_input = input('Give me a positive integer: ')\n",
    "    \n",
    "#     if user_input.isdigit():\n",
    "#         user_input = int(user_input)\n",
    "        \n",
    "#         if user_input > 0:\n",
    "#             break\n",
    "            \n",
    "# while user_input > 0:\n",
    "#     print(user_input)\n",
    "#     user_input -= 1"
   ]
  },
  {
   "cell_type": "code",
   "execution_count": 6,
   "id": "182374eb",
   "metadata": {},
   "outputs": [
    {
     "name": "stdout",
     "output_type": "stream",
     "text": [
      "Type in any positive number:3\n",
      "0\n",
      "1\n",
      "2\n",
      "3\n"
     ]
    }
   ],
   "source": [
    "pos_number_prompt = int(input('Type in any positive number:'))\n",
    "\n",
    "for number in range(-1,pos_number_prompt):\n",
    "    number += 1\n",
    "    print(number)\n",
    "    \n",
    "# Instructor Answer:\n",
    "# while True:\n",
    "#     user_input = input('Give me a positive integer: ')\n",
    "    \n",
    "#     if user_input.isdigit():\n",
    "#         user_input = int(user_input)\n",
    "        \n",
    "#         if user_input > 0:\n",
    "#             break\n",
    "\n",
    "# for number in range(user_input + 1):\n",
    "#     print(number)"
   ]
  },
  {
   "cell_type": "code",
   "execution_count": 14,
   "id": "c41ea545",
   "metadata": {},
   "outputs": [
    {
     "name": "stdout",
     "output_type": "stream",
     "text": [
      "Type in any odd number between 1 and 50:27\n",
      "Here is an odd number: 1\n",
      "Here is an odd number: 3\n",
      "Here is an odd number: 5\n",
      "Here is an odd number: 7\n",
      "Here is an odd number: 9\n",
      "Here is an odd number: 11\n",
      "Here is an odd number: 13\n",
      "Here is an odd number: 15\n",
      "Here is an odd number: 17\n",
      "Here is an odd number: 19\n",
      "Here is an odd number: 21\n",
      "Here is an odd number: 23\n",
      "Here is an odd number: 25\n",
      "Yikes! Skipping number: 27\n",
      "Here is an odd number: 29\n",
      "Here is an odd number: 31\n",
      "Here is an odd number: 33\n",
      "Here is an odd number: 35\n",
      "Here is an odd number: 37\n",
      "Here is an odd number: 39\n",
      "Here is an odd number: 41\n",
      "Here is an odd number: 43\n",
      "Here is an odd number: 45\n",
      "Here is an odd number: 47\n",
      "Here is an odd number: 49\n"
     ]
    }
   ],
   "source": [
    "odd_number_prompt = int(input('Type in any odd number between 1 and 50: '))\n",
    "iteration = 1\n",
    "while iteration < 50:\n",
    "    if odd_number_prompt % 2 == 0:\n",
    "        break\n",
    "    if odd_number_prompt == iteration:\n",
    "        print(f'Yikes! Skipping number: {odd_number_prompt}')\n",
    "        iteration += 1\n",
    "        continue\n",
    "    if iteration % 2 == 1:\n",
    "        print(f'Here is an odd number: {iteration}')\n",
    "        \n",
    "        \n",
    "    iteration += 1\n",
    "    \n",
    "# # odd_number_prompt = int(input('Type in any odd number between 1 and 50:'))   \n",
    "# # for number in range(1,51):\n",
    "# #     if odd_number_prompt == number:\n",
    "# #         print(f'Yikes! Skipping number: {odd_number_prompt}')\n",
    "# #         continue\n",
    "#     if number % 2 != 0:\n",
    "#         print(f'Here is an odd number: {number}')\n",
    "\n",
    "\n",
    "\n",
    "Instructor Answer:\n",
    "# while True:\n",
    "#     user_input = input('Give me an odd number between 1 and 50: ')\n",
    "    \n",
    "#     if user_input.isdigit():\n",
    "#         user_input = int(user_input)\n",
    "        \n",
    "#         if user_input > 0 and user_input <= 50 and user_input % 2 == 1:\n",
    "#             break    \n",
    "\n",
    "        \n",
    "   \n",
    "        \n",
    "    \n"
   ]
  },
  {
   "cell_type": "markdown",
   "id": "9586e461",
   "metadata": {},
   "source": [
    "## 3."
   ]
  },
  {
   "cell_type": "code",
   "execution_count": 5,
   "id": "cf41b2ec",
   "metadata": {},
   "outputs": [
    {
     "name": "stdout",
     "output_type": "stream",
     "text": [
      "1\n",
      "2\n",
      "Fizz\n",
      "4\n",
      "Buzz\n",
      "Fizz\n",
      "7\n",
      "8\n",
      "Fizz\n",
      "Buzz\n",
      "11\n",
      "Fizz\n",
      "13\n",
      "14\n",
      "FizzBuzz\n",
      "16\n",
      "17\n",
      "Fizz\n",
      "19\n",
      "Buzz\n",
      "Fizz\n",
      "22\n",
      "23\n",
      "Fizz\n",
      "Buzz\n",
      "26\n",
      "Fizz\n",
      "28\n",
      "29\n",
      "FizzBuzz\n",
      "31\n",
      "32\n",
      "Fizz\n",
      "34\n",
      "Buzz\n",
      "Fizz\n",
      "37\n",
      "38\n",
      "Fizz\n",
      "Buzz\n",
      "41\n",
      "Fizz\n",
      "43\n",
      "44\n",
      "FizzBuzz\n",
      "46\n",
      "47\n",
      "Fizz\n",
      "49\n",
      "Buzz\n",
      "Fizz\n",
      "52\n",
      "53\n",
      "Fizz\n",
      "Buzz\n",
      "56\n",
      "Fizz\n",
      "58\n",
      "59\n",
      "FizzBuzz\n",
      "61\n",
      "62\n",
      "Fizz\n",
      "64\n",
      "Buzz\n",
      "Fizz\n",
      "67\n",
      "68\n",
      "Fizz\n",
      "Buzz\n",
      "71\n",
      "Fizz\n",
      "73\n",
      "74\n",
      "FizzBuzz\n",
      "76\n",
      "77\n",
      "Fizz\n",
      "79\n",
      "Buzz\n",
      "Fizz\n",
      "82\n",
      "83\n",
      "Fizz\n",
      "Buzz\n",
      "86\n",
      "Fizz\n",
      "88\n",
      "89\n",
      "FizzBuzz\n",
      "91\n",
      "92\n",
      "Fizz\n",
      "94\n",
      "Buzz\n",
      "Fizz\n",
      "97\n",
      "98\n",
      "Fizz\n",
      "Buzz\n"
     ]
    }
   ],
   "source": [
    "for number in range(1,101):\n",
    "    if number % 3 == 0 and number % 5 == 0:\n",
    "        number = 'FizzBuzz'\n",
    "    elif number % 3 == 0:\n",
    "        number = 'Fizz'\n",
    "    elif number % 5 == 0:\n",
    "        number = 'Buzz'\n",
    "    print(number)"
   ]
  },
  {
   "cell_type": "markdown",
   "id": "a3f42b9c",
   "metadata": {},
   "source": [
    "## 4."
   ]
  },
  {
   "cell_type": "code",
   "execution_count": null,
   "id": "0f26ce87",
   "metadata": {},
   "outputs": [],
   "source": [
    "while True:\n",
    "\n",
    "    int_prompt = int(input('What number would you like to go up to? '))\n",
    "\n",
    "    print('\\nHere is your table!')\n",
    "    print('\\nnumber | squared | cubed')\n",
    "    print('-------|---------|------')\n",
    "    for number in range(1, int_prompt + 1):\n",
    "        squared_number = number ** 2\n",
    "        cubed_number = number ** 3\n",
    "        print(f'{number}      | {squared_number}       | {cubed_number}')\n",
    "\n",
    "    \n",
    "    verify = input('\\nWould you like to continue? ').lower()\n",
    "    \n",
    "    if verify == 'no':\n",
    "        print('\\nGood bye.')\n",
    "        break\n",
    "        \n",
    "# # Instructor Answer:\n",
    "#     for number in range(1, int_prompt + 1):\n",
    "#         print(f'''{int_prompt}{' ' * 7 - len(str(int_prompt))}|{int_prompt**2}{' ' * 7 - len(str(int_prompt**2))}|{int_prompt**3}{' ' * 7 - len(str(int_prompt**3))}''')"
   ]
  },
  {
   "cell_type": "markdown",
   "id": "cf7ad9e3",
   "metadata": {},
   "source": [
    "## 5."
   ]
  },
  {
   "cell_type": "code",
   "execution_count": null,
   "id": "8a50b580",
   "metadata": {},
   "outputs": [],
   "source": [
    "grade_prompt = int(input('Enter a numerical grade between 0 - 100: '))\n",
    "\n",
    "for grade in range(grade_prompt + 1):\n",
    "    if grade in range(88,101):\n",
    "        grade = 'A'\n",
    "    elif grade in range(80,88):\n",
    "        grade = 'B'\n",
    "    elif grade in range(67,80):\n",
    "        grade = 'C'\n",
    "    elif grade in range(60,67):\n",
    "        grade = 'D'\n",
    "    elif grade in range(0,60):\n",
    "        grade = 'F'\n",
    "print(grade)\n",
    "\n",
    "# Instructor Answer:\n",
    "#     if grade_prompt >= 88:\n",
    "#         print('A')\n",
    "#     elif grade_prompt >= 80:\n",
    "#         print('B')\n",
    "#     elif grade_prompt >= 67:\n",
    "#         print('C')\n",
    "#     elif grade_prompt >= 60:\n",
    "#         print('D')\n",
    "#     else:\n",
    "#         print('F')"
   ]
  },
  {
   "cell_type": "markdown",
   "id": "7565bab1",
   "metadata": {},
   "source": [
    "## 6."
   ]
  },
  {
   "cell_type": "code",
   "execution_count": 5,
   "id": "e977357e",
   "metadata": {},
   "outputs": [
    {
     "name": "stdout",
     "output_type": "stream",
     "text": [
      "Enter a genre: fiction\n"
     ]
    }
   ],
   "source": [
    "books = [\n",
    "    {\n",
    "        'title': \"Harry Potter and the Sorcerer's Stone\", \n",
    "        'author': 'J.K. Rowling',\n",
    "         'genre': 'Fantasy',\n",
    "    },\n",
    "    {\n",
    "        'title': 'The Lord of the Rings',\n",
    "        'author': 'J.R.R. Tolkien',\n",
    "        'genre': 'Fantasy',\n",
    "    },\n",
    "    {\n",
    "        'title': 'Choke',\n",
    "        'author':'Chuck Palahniuk',\n",
    "        'genre': 'Fiction',\n",
    "    }\n",
    "]\n",
    "\n",
    "ask = input(f'Enter a genre: ')\n",
    "\n",
    "for book in books:\n",
    "    if ask == [['genre'] for book in books]:\n",
    "        print(book)\n",
    "        \n",
    "# Instructor Answer:\n",
    "\n",
    "# for book in books:\n",
    "#     if book['genre'] == ask.lower():\n",
    "#         print(book['title'])"
   ]
  }
 ],
 "metadata": {
  "kernelspec": {
   "display_name": "Python 3 (ipykernel)",
   "language": "python",
   "name": "python3"
  },
  "language_info": {
   "codemirror_mode": {
    "name": "ipython",
    "version": 3
   },
   "file_extension": ".py",
   "mimetype": "text/x-python",
   "name": "python",
   "nbconvert_exporter": "python",
   "pygments_lexer": "ipython3",
   "version": "3.10.9"
  }
 },
 "nbformat": 4,
 "nbformat_minor": 5
}
