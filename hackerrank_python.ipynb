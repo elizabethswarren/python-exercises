{
 "cells": [
  {
   "cell_type": "markdown",
   "id": "8a8c8082",
   "metadata": {},
   "source": [
    "## Leap Year Function"
   ]
  },
  {
   "cell_type": "code",
   "execution_count": 30,
   "id": "041b2e36",
   "metadata": {},
   "outputs": [],
   "source": [
    "def is_leap(year):\n",
    "    if year % 4 == 0 and year % 400 == 0:\n",
    "        return True\n",
    "    else:\n",
    "        return False"
   ]
  },
  {
   "cell_type": "code",
   "execution_count": 31,
   "id": "083de254",
   "metadata": {},
   "outputs": [],
   "source": [
    "leap_years = [2000, 2400, 1800, 1900, 2100, 2200, 2300, 2500]"
   ]
  },
  {
   "cell_type": "code",
   "execution_count": 32,
   "id": "04473db7",
   "metadata": {},
   "outputs": [
    {
     "data": {
      "text/plain": [
       "[True, True, False, False, False, False, False, False]"
      ]
     },
     "execution_count": 32,
     "metadata": {},
     "output_type": "execute_result"
    }
   ],
   "source": [
    "list(map(is_leap, leap_years))"
   ]
  },
  {
   "cell_type": "code",
   "execution_count": 29,
   "id": "d273d680",
   "metadata": {},
   "outputs": [
    {
     "data": {
      "text/plain": [
       "True"
      ]
     },
     "execution_count": 29,
     "metadata": {},
     "output_type": "execute_result"
    }
   ],
   "source": [
    "2400 % 4 == 0"
   ]
  },
  {
   "cell_type": "code",
   "execution_count": 7,
   "id": "847afbed",
   "metadata": {},
   "outputs": [
    {
     "data": {
      "text/plain": [
       "[False, None, None, None, None, None, None, None, None, None, None, None, None]"
      ]
     },
     "execution_count": 7,
     "metadata": {},
     "output_type": "execute_result"
    }
   ],
   "source": [
    "list(map(is_leap, leap_years))"
   ]
  },
  {
   "cell_type": "code",
   "execution_count": 33,
   "id": "d17652b9",
   "metadata": {},
   "outputs": [],
   "source": [
    "def is_leap(year):\n",
    "    if year % 400 == 0:\n",
    "        return True\n",
    "    if year % 4 == 0 and year % 100 != 0:\n",
    "        return True\n",
    "    else:\n",
    "        return False"
   ]
  },
  {
   "cell_type": "code",
   "execution_count": 34,
   "id": "1733836c",
   "metadata": {},
   "outputs": [
    {
     "data": {
      "text/plain": [
       "[True, True, False, False, False, False, False, False]"
      ]
     },
     "execution_count": 34,
     "metadata": {},
     "output_type": "execute_result"
    }
   ],
   "source": [
    "list(map(is_leap, leap_years))"
   ]
  },
  {
   "cell_type": "markdown",
   "id": "c823bb90",
   "metadata": {},
   "source": [
    "## Print Method"
   ]
  },
  {
   "cell_type": "code",
   "execution_count": 36,
   "id": "cefeb19e",
   "metadata": {},
   "outputs": [
    {
     "name": "stdout",
     "output_type": "stream",
     "text": [
      "1 2 3\n"
     ]
    }
   ],
   "source": [
    "# the * in the print method unpacks the sequence so it is printed in one line\n",
    "n=3\n",
    "print(*range(1, n+1))"
   ]
  },
  {
   "cell_type": "code",
   "execution_count": 37,
   "id": "ec90de99",
   "metadata": {},
   "outputs": [
    {
     "name": "stdout",
     "output_type": "stream",
     "text": [
      "123"
     ]
    }
   ],
   "source": [
    "# without spaces between, add end=\"\"\n",
    "for i in range(1, n+1):\n",
    "    print(i, end=\"\")"
   ]
  },
  {
   "cell_type": "code",
   "execution_count": null,
   "id": "484df321",
   "metadata": {},
   "outputs": [],
   "source": []
  }
 ],
 "metadata": {
  "kernelspec": {
   "display_name": "Python 3 (ipykernel)",
   "language": "python",
   "name": "python3"
  },
  "language_info": {
   "codemirror_mode": {
    "name": "ipython",
    "version": 3
   },
   "file_extension": ".py",
   "mimetype": "text/x-python",
   "name": "python",
   "nbconvert_exporter": "python",
   "pygments_lexer": "ipython3",
   "version": "3.10.9"
  }
 },
 "nbformat": 4,
 "nbformat_minor": 5
}
