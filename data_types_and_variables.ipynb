{
 "cells": [
  {
   "cell_type": "markdown",
   "id": "1ac9fda4",
   "metadata": {},
   "source": [
    "## 1."
   ]
  },
  {
   "cell_type": "code",
   "execution_count": 1,
   "id": "9e94ba14",
   "metadata": {},
   "outputs": [
    {
     "data": {
      "text/plain": [
       "float"
      ]
     },
     "execution_count": 1,
     "metadata": {},
     "output_type": "execute_result"
    }
   ],
   "source": [
    "type(99.9)"
   ]
  },
  {
   "cell_type": "code",
   "execution_count": 2,
   "id": "b8c6d965",
   "metadata": {},
   "outputs": [
    {
     "data": {
      "text/plain": [
       "str"
      ]
     },
     "execution_count": 2,
     "metadata": {},
     "output_type": "execute_result"
    }
   ],
   "source": [
    "type(\"False\")"
   ]
  },
  {
   "cell_type": "code",
   "execution_count": 3,
   "id": "c6b98474",
   "metadata": {},
   "outputs": [
    {
     "data": {
      "text/plain": [
       "bool"
      ]
     },
     "execution_count": 3,
     "metadata": {},
     "output_type": "execute_result"
    }
   ],
   "source": [
    "type(False)"
   ]
  },
  {
   "cell_type": "code",
   "execution_count": 4,
   "id": "3e23e2ac",
   "metadata": {},
   "outputs": [
    {
     "data": {
      "text/plain": [
       "str"
      ]
     },
     "execution_count": 4,
     "metadata": {},
     "output_type": "execute_result"
    }
   ],
   "source": [
    "type('0')"
   ]
  },
  {
   "cell_type": "code",
   "execution_count": 5,
   "id": "813eaba0",
   "metadata": {},
   "outputs": [
    {
     "data": {
      "text/plain": [
       "int"
      ]
     },
     "execution_count": 5,
     "metadata": {},
     "output_type": "execute_result"
    }
   ],
   "source": [
    "type(0)"
   ]
  },
  {
   "cell_type": "code",
   "execution_count": 6,
   "id": "9394e27e",
   "metadata": {},
   "outputs": [
    {
     "data": {
      "text/plain": [
       "bool"
      ]
     },
     "execution_count": 6,
     "metadata": {},
     "output_type": "execute_result"
    }
   ],
   "source": [
    "type(True)"
   ]
  },
  {
   "cell_type": "code",
   "execution_count": 7,
   "id": "6133f9d1",
   "metadata": {},
   "outputs": [
    {
     "data": {
      "text/plain": [
       "str"
      ]
     },
     "execution_count": 7,
     "metadata": {},
     "output_type": "execute_result"
    }
   ],
   "source": [
    "type('True')"
   ]
  },
  {
   "cell_type": "code",
   "execution_count": 8,
   "id": "03ecc1de",
   "metadata": {},
   "outputs": [
    {
     "data": {
      "text/plain": [
       "list"
      ]
     },
     "execution_count": 8,
     "metadata": {},
     "output_type": "execute_result"
    }
   ],
   "source": [
    "type([{}])"
   ]
  },
  {
   "cell_type": "code",
   "execution_count": 9,
   "id": "a4607c59",
   "metadata": {},
   "outputs": [
    {
     "data": {
      "text/plain": [
       "dict"
      ]
     },
     "execution_count": 9,
     "metadata": {},
     "output_type": "execute_result"
    }
   ],
   "source": [
    "type({'a':[]})"
   ]
  },
  {
   "cell_type": "markdown",
   "id": "022b8052",
   "metadata": {},
   "source": [
    "## 2. "
   ]
  },
  {
   "cell_type": "markdown",
   "id": "2d07d941",
   "metadata": {},
   "source": [
    "* A term or phrase typed into a search box\n",
    "\n",
    "Str"
   ]
  },
  {
   "cell_type": "markdown",
   "id": "8cb708a2",
   "metadata": {},
   "source": [
    "* Whether or not a user is logged in\n",
    "\n",
    "Bool"
   ]
  },
  {
   "cell_type": "markdown",
   "id": "6ea6cdb1",
   "metadata": {},
   "source": [
    "* A discount amount to apply to a user's shopping cart\n",
    "\n",
    "Int"
   ]
  },
  {
   "cell_type": "markdown",
   "id": "296b6b7c",
   "metadata": {},
   "source": [
    "* Whether or not a coupon code is valid\n",
    "\n",
    "Bool"
   ]
  },
  {
   "cell_type": "markdown",
   "id": "c3d32016",
   "metadata": {},
   "source": [
    "* An email address typed into a registration form\n",
    "\n",
    "Str"
   ]
  },
  {
   "cell_type": "markdown",
   "id": "b88ce6dc",
   "metadata": {},
   "source": [
    "* The price of the product\n",
    "\n",
    "Float"
   ]
  },
  {
   "cell_type": "markdown",
   "id": "46961caa",
   "metadata": {},
   "source": [
    "* The email addresses collected from a registration form\n",
    "\n",
    "List"
   ]
  },
  {
   "cell_type": "markdown",
   "id": "7c51a600",
   "metadata": {},
   "source": [
    "* Information about applicants to Codedup's data science program\n",
    "\n",
    "Dict"
   ]
  },
  {
   "cell_type": "markdown",
   "id": "9ee07f96",
   "metadata": {},
   "source": [
    "## 3."
   ]
  },
  {
   "cell_type": "markdown",
   "id": "f9d4154f",
   "metadata": {},
   "source": [
    "a. Exp. Results: Error"
   ]
  },
  {
   "cell_type": "code",
   "execution_count": 10,
   "id": "dfa6337b",
   "metadata": {},
   "outputs": [
    {
     "ename": "TypeError",
     "evalue": "can only concatenate str (not \"int\") to str",
     "output_type": "error",
     "traceback": [
      "\u001b[0;31m---------------------------------------------------------------------------\u001b[0m",
      "\u001b[0;31mTypeError\u001b[0m                                 Traceback (most recent call last)",
      "Cell \u001b[0;32mIn[10], line 1\u001b[0m\n\u001b[0;32m----> 1\u001b[0m \u001b[38;5;124;43m'\u001b[39;49m\u001b[38;5;124;43m1\u001b[39;49m\u001b[38;5;124;43m'\u001b[39;49m\u001b[43m \u001b[49m\u001b[38;5;241;43m+\u001b[39;49m\u001b[43m \u001b[49m\u001b[38;5;241;43m2\u001b[39;49m\n",
      "\u001b[0;31mTypeError\u001b[0m: can only concatenate str (not \"int\") to str"
     ]
    }
   ],
   "source": [
    "'1' + 2"
   ]
  },
  {
   "cell_type": "markdown",
   "id": "c370f6a2",
   "metadata": {},
   "source": [
    "b. Exp. Results: 0.5"
   ]
  },
  {
   "cell_type": "code",
   "execution_count": 11,
   "id": "f5c3f7e4",
   "metadata": {},
   "outputs": [
    {
     "data": {
      "text/plain": [
       "2"
      ]
     },
     "execution_count": 11,
     "metadata": {},
     "output_type": "execute_result"
    }
   ],
   "source": [
    "6 % 4"
   ]
  },
  {
   "cell_type": "markdown",
   "id": "1a7370ca",
   "metadata": {},
   "source": [
    "c. Exp. Results: int"
   ]
  },
  {
   "cell_type": "code",
   "execution_count": 12,
   "id": "1ccb5533",
   "metadata": {},
   "outputs": [
    {
     "data": {
      "text/plain": [
       "int"
      ]
     },
     "execution_count": 12,
     "metadata": {},
     "output_type": "execute_result"
    }
   ],
   "source": [
    "type(6%4)"
   ]
  },
  {
   "cell_type": "markdown",
   "id": "678e8a6a",
   "metadata": {},
   "source": [
    "d. Exp. Results: Function"
   ]
  },
  {
   "cell_type": "code",
   "execution_count": 14,
   "id": "414d425e",
   "metadata": {},
   "outputs": [
    {
     "data": {
      "text/plain": [
       "type"
      ]
     },
     "execution_count": 14,
     "metadata": {},
     "output_type": "execute_result"
    }
   ],
   "source": [
    "type(type(6%4))"
   ]
  },
  {
   "cell_type": "markdown",
   "id": "5adb53f8",
   "metadata": {},
   "source": [
    "e. Exp. Results: Error"
   ]
  },
  {
   "cell_type": "code",
   "execution_count": 15,
   "id": "17dc88ae",
   "metadata": {},
   "outputs": [
    {
     "ename": "TypeError",
     "evalue": "can only concatenate str (not \"int\") to str",
     "output_type": "error",
     "traceback": [
      "\u001b[0;31m---------------------------------------------------------------------------\u001b[0m",
      "\u001b[0;31mTypeError\u001b[0m                                 Traceback (most recent call last)",
      "Cell \u001b[0;32mIn[15], line 1\u001b[0m\n\u001b[0;32m----> 1\u001b[0m \u001b[38;5;124;43m'\u001b[39;49m\u001b[38;5;124;43m3 + 4 is \u001b[39;49m\u001b[38;5;124;43m'\u001b[39;49m\u001b[43m \u001b[49m\u001b[38;5;241;43m+\u001b[39;49m\u001b[43m \u001b[49m\u001b[38;5;241;43m3\u001b[39;49m \u001b[38;5;241m+\u001b[39m \u001b[38;5;241m4\u001b[39m\n",
      "\u001b[0;31mTypeError\u001b[0m: can only concatenate str (not \"int\") to str"
     ]
    }
   ],
   "source": [
    "'3 + 4 is ' + 3 + 4"
   ]
  },
  {
   "cell_type": "markdown",
   "id": "d6b17b2d",
   "metadata": {},
   "source": [
    "f. Exp. Result: False"
   ]
  },
  {
   "cell_type": "code",
   "execution_count": 16,
   "id": "168d19b1",
   "metadata": {},
   "outputs": [
    {
     "data": {
      "text/plain": [
       "False"
      ]
     },
     "execution_count": 16,
     "metadata": {},
     "output_type": "execute_result"
    }
   ],
   "source": [
    "0<0"
   ]
  },
  {
   "cell_type": "markdown",
   "id": "14b531f4",
   "metadata": {},
   "source": [
    "g. Exp. Result: True"
   ]
  },
  {
   "cell_type": "code",
   "execution_count": 17,
   "id": "c32f30db",
   "metadata": {},
   "outputs": [
    {
     "data": {
      "text/plain": [
       "False"
      ]
     },
     "execution_count": 17,
     "metadata": {},
     "output_type": "execute_result"
    }
   ],
   "source": [
    "'False' == False"
   ]
  },
  {
   "cell_type": "markdown",
   "id": "a5022394",
   "metadata": {},
   "source": [
    "h. Exp. Result: False"
   ]
  },
  {
   "cell_type": "code",
   "execution_count": 19,
   "id": "faed67bf",
   "metadata": {},
   "outputs": [
    {
     "data": {
      "text/plain": [
       "False"
      ]
     },
     "execution_count": 19,
     "metadata": {},
     "output_type": "execute_result"
    }
   ],
   "source": [
    "True == 'True'"
   ]
  },
  {
   "cell_type": "markdown",
   "id": "a81b800b",
   "metadata": {},
   "source": [
    "i. Exp. Result: True"
   ]
  },
  {
   "cell_type": "code",
   "execution_count": 20,
   "id": "10fa92ad",
   "metadata": {},
   "outputs": [
    {
     "data": {
      "text/plain": [
       "True"
      ]
     },
     "execution_count": 20,
     "metadata": {},
     "output_type": "execute_result"
    }
   ],
   "source": [
    "5>=-5"
   ]
  },
  {
   "cell_type": "markdown",
   "id": "73454033",
   "metadata": {},
   "source": [
    "j. Exp. Result: False"
   ]
  },
  {
   "cell_type": "code",
   "execution_count": 21,
   "id": "437ed69c",
   "metadata": {},
   "outputs": [
    {
     "data": {
      "text/plain": [
       "True"
      ]
     },
     "execution_count": 21,
     "metadata": {},
     "output_type": "execute_result"
    }
   ],
   "source": [
    "True or \"42\""
   ]
  },
  {
   "cell_type": "markdown",
   "id": "306f179e",
   "metadata": {},
   "source": [
    "k. Exp. Result: 1"
   ]
  },
  {
   "cell_type": "code",
   "execution_count": 22,
   "id": "5484e3d8",
   "metadata": {},
   "outputs": [
    {
     "data": {
      "text/plain": [
       "1"
      ]
     },
     "execution_count": 22,
     "metadata": {},
     "output_type": "execute_result"
    }
   ],
   "source": [
    "6 % 5"
   ]
  },
  {
   "cell_type": "markdown",
   "id": "c52d4d09",
   "metadata": {},
   "source": [
    "l. Exp. Result: False"
   ]
  },
  {
   "cell_type": "code",
   "execution_count": 23,
   "id": "191255bd",
   "metadata": {},
   "outputs": [
    {
     "data": {
      "text/plain": [
       "False"
      ]
     },
     "execution_count": 23,
     "metadata": {},
     "output_type": "execute_result"
    }
   ],
   "source": [
    "5 < 4 and 1 == 1"
   ]
  },
  {
   "cell_type": "markdown",
   "id": "fbe176d0",
   "metadata": {},
   "source": [
    "m. Exp. Result: True"
   ]
  },
  {
   "cell_type": "code",
   "execution_count": 24,
   "id": "176a94e5",
   "metadata": {},
   "outputs": [
    {
     "data": {
      "text/plain": [
       "False"
      ]
     },
     "execution_count": 24,
     "metadata": {},
     "output_type": "execute_result"
    }
   ],
   "source": [
    "'codeup' == 'codeup' and 'codeup' == 'Codeup'"
   ]
  },
  {
   "cell_type": "markdown",
   "id": "a95dd887",
   "metadata": {},
   "source": [
    "n. Exp. Result: False"
   ]
  },
  {
   "cell_type": "code",
   "execution_count": 25,
   "id": "816212e2",
   "metadata": {},
   "outputs": [
    {
     "ename": "SyntaxError",
     "evalue": "invalid syntax (383778220.py, line 1)",
     "output_type": "error",
     "traceback": [
      "\u001b[0;36m  Cell \u001b[0;32mIn[25], line 1\u001b[0;36m\u001b[0m\n\u001b[0;31m    4 >= 0 and 1 !== '1'\u001b[0m\n\u001b[0m                   ^\u001b[0m\n\u001b[0;31mSyntaxError\u001b[0m\u001b[0;31m:\u001b[0m invalid syntax\n"
     ]
    }
   ],
   "source": [
    "4 >= 0 and 1 !== '1'"
   ]
  },
  {
   "cell_type": "markdown",
   "id": "1150fe01",
   "metadata": {},
   "source": [
    "o. Exp. Result: True"
   ]
  },
  {
   "cell_type": "code",
   "execution_count": 26,
   "id": "1bf968e3",
   "metadata": {},
   "outputs": [
    {
     "data": {
      "text/plain": [
       "True"
      ]
     },
     "execution_count": 26,
     "metadata": {},
     "output_type": "execute_result"
    }
   ],
   "source": [
    "6 % 3 == 0"
   ]
  },
  {
   "cell_type": "markdown",
   "id": "f7090f35",
   "metadata": {},
   "source": [
    "p. Exp. Result: True"
   ]
  },
  {
   "cell_type": "code",
   "execution_count": 27,
   "id": "e6d26c97",
   "metadata": {},
   "outputs": [
    {
     "data": {
      "text/plain": [
       "True"
      ]
     },
     "execution_count": 27,
     "metadata": {},
     "output_type": "execute_result"
    }
   ],
   "source": [
    "5 % 2 != 0"
   ]
  },
  {
   "cell_type": "markdown",
   "id": "0eeda781",
   "metadata": {},
   "source": [
    "q. Exp. Result: Error"
   ]
  },
  {
   "cell_type": "code",
   "execution_count": 28,
   "id": "890a8d60",
   "metadata": {},
   "outputs": [
    {
     "ename": "TypeError",
     "evalue": "can only concatenate list (not \"int\") to list",
     "output_type": "error",
     "traceback": [
      "\u001b[0;31m---------------------------------------------------------------------------\u001b[0m",
      "\u001b[0;31mTypeError\u001b[0m                                 Traceback (most recent call last)",
      "Cell \u001b[0;32mIn[28], line 1\u001b[0m\n\u001b[0;32m----> 1\u001b[0m \u001b[43m[\u001b[49m\u001b[38;5;241;43m1\u001b[39;49m\u001b[43m]\u001b[49m\u001b[43m \u001b[49m\u001b[38;5;241;43m+\u001b[39;49m\u001b[43m \u001b[49m\u001b[38;5;241;43m2\u001b[39;49m\n",
      "\u001b[0;31mTypeError\u001b[0m: can only concatenate list (not \"int\") to list"
     ]
    }
   ],
   "source": [
    "[1] + 2"
   ]
  },
  {
   "cell_type": "markdown",
   "id": "a0bc30e7",
   "metadata": {},
   "source": [
    "r. Exp. Result: [1,2]"
   ]
  },
  {
   "cell_type": "code",
   "execution_count": 29,
   "id": "1e75c7ae",
   "metadata": {},
   "outputs": [
    {
     "data": {
      "text/plain": [
       "[1, 2]"
      ]
     },
     "execution_count": 29,
     "metadata": {},
     "output_type": "execute_result"
    }
   ],
   "source": [
    "[1] + [2]"
   ]
  },
  {
   "cell_type": "markdown",
   "id": "84dccc14",
   "metadata": {},
   "source": [
    "s. Exp. Result: [1] [1]"
   ]
  },
  {
   "cell_type": "code",
   "execution_count": 30,
   "id": "e5dd0882",
   "metadata": {},
   "outputs": [
    {
     "data": {
      "text/plain": [
       "[1, 1]"
      ]
     },
     "execution_count": 30,
     "metadata": {},
     "output_type": "execute_result"
    }
   ],
   "source": [
    "[1] * 2"
   ]
  },
  {
   "cell_type": "markdown",
   "id": "d9c631fa",
   "metadata": {},
   "source": [
    "t. Exp. Result: [2]"
   ]
  },
  {
   "cell_type": "code",
   "execution_count": 31,
   "id": "86f9fd8b",
   "metadata": {},
   "outputs": [
    {
     "ename": "TypeError",
     "evalue": "can't multiply sequence by non-int of type 'list'",
     "output_type": "error",
     "traceback": [
      "\u001b[0;31m---------------------------------------------------------------------------\u001b[0m",
      "\u001b[0;31mTypeError\u001b[0m                                 Traceback (most recent call last)",
      "Cell \u001b[0;32mIn[31], line 1\u001b[0m\n\u001b[0;32m----> 1\u001b[0m \u001b[43m[\u001b[49m\u001b[38;5;241;43m1\u001b[39;49m\u001b[43m]\u001b[49m\u001b[43m \u001b[49m\u001b[38;5;241;43m*\u001b[39;49m\u001b[43m \u001b[49m\u001b[43m[\u001b[49m\u001b[38;5;241;43m2\u001b[39;49m\u001b[43m]\u001b[49m\n",
      "\u001b[0;31mTypeError\u001b[0m: can't multiply sequence by non-int of type 'list'"
     ]
    }
   ],
   "source": [
    "[1] * [2]"
   ]
  },
  {
   "cell_type": "markdown",
   "id": "0c05c80c",
   "metadata": {},
   "source": [
    "u. Exp. Result: True"
   ]
  },
  {
   "cell_type": "code",
   "execution_count": 32,
   "id": "fd3b38b1",
   "metadata": {},
   "outputs": [
    {
     "data": {
      "text/plain": [
       "True"
      ]
     },
     "execution_count": 32,
     "metadata": {},
     "output_type": "execute_result"
    }
   ],
   "source": [
    "[] + [] == []"
   ]
  },
  {
   "cell_type": "markdown",
   "id": "db422f64",
   "metadata": {},
   "source": [
    "v. Exp. Result: Error"
   ]
  },
  {
   "cell_type": "code",
   "execution_count": 34,
   "id": "0fdeb4b4",
   "metadata": {},
   "outputs": [
    {
     "ename": "TypeError",
     "evalue": "unsupported operand type(s) for +: 'dict' and 'dict'",
     "output_type": "error",
     "traceback": [
      "\u001b[0;31m---------------------------------------------------------------------------\u001b[0m",
      "\u001b[0;31mTypeError\u001b[0m                                 Traceback (most recent call last)",
      "Cell \u001b[0;32mIn[34], line 1\u001b[0m\n\u001b[0;32m----> 1\u001b[0m \u001b[43m{\u001b[49m\u001b[43m}\u001b[49m\u001b[43m \u001b[49m\u001b[38;5;241;43m+\u001b[39;49m\u001b[43m \u001b[49m\u001b[43m{\u001b[49m\u001b[43m}\u001b[49m\n",
      "\u001b[0;31mTypeError\u001b[0m: unsupported operand type(s) for +: 'dict' and 'dict'"
     ]
    }
   ],
   "source": [
    "{} + {}"
   ]
  },
  {
   "cell_type": "markdown",
   "id": "a1e8ab60",
   "metadata": {},
   "source": [
    "## 5."
   ]
  },
  {
   "cell_type": "code",
   "execution_count": 37,
   "id": "6f0eeb68",
   "metadata": {},
   "outputs": [
    {
     "name": "stdout",
     "output_type": "stream",
     "text": [
      "27.0\n"
     ]
    }
   ],
   "source": [
    "daily_rent_fee = 3.00\n",
    "movie1 = 3 * daily_rent_fee\n",
    "movie2 = 5 * daily_rent_fee\n",
    "movie3 = 1 * daily_rent_fee\n",
    "total = movie1 + movie2 + movie3\n",
    "print(total)"
   ]
  },
  {
   "cell_type": "markdown",
   "id": "d421b388",
   "metadata": {},
   "source": [
    "## 6."
   ]
  },
  {
   "cell_type": "code",
   "execution_count": 39,
   "id": "f35fdd99",
   "metadata": {},
   "outputs": [
    {
     "name": "stdout",
     "output_type": "stream",
     "text": [
      "7420\n"
     ]
    }
   ],
   "source": [
    "google_pay = 400 * 6\n",
    "amazon_pay = 380 * 4\n",
    "facebook_pay = 350 *10\n",
    "week_payment = google_pay + amazon_pay + facebook_pay\n",
    "print(week_payment)"
   ]
  },
  {
   "cell_type": "markdown",
   "id": "7c480d6a",
   "metadata": {},
   "source": [
    "## 7."
   ]
  },
  {
   "cell_type": "code",
   "execution_count": 43,
   "id": "a581b49b",
   "metadata": {},
   "outputs": [
    {
     "name": "stdout",
     "output_type": "stream",
     "text": [
      "True\n"
     ]
    }
   ],
   "source": [
    "if_class_not_full = True\n",
    "if_class_schedule_does_conflict = False\n",
    "can_enroll_in_class = if_class_not_full and not if_class_schedule_does_conflict\n",
    "print(can_enroll_in_class)"
   ]
  },
  {
   "cell_type": "markdown",
   "id": "e36e47ad",
   "metadata": {},
   "source": [
    "## 8."
   ]
  },
  {
   "cell_type": "code",
   "execution_count": 45,
   "id": "2ece08dc",
   "metadata": {},
   "outputs": [
    {
     "name": "stdout",
     "output_type": "stream",
     "text": [
      "True\n"
     ]
    }
   ],
   "source": [
    "more_than_2_items_bought = True\n",
    "if_offer_expired = False\n",
    "#premium_membership = False\n",
    "offer_applicable = more_than_2_items_bought and not if_offer_expired\n",
    "print(offer_applicable)"
   ]
  },
  {
   "cell_type": "markdown",
   "id": "59997e36",
   "metadata": {},
   "source": [
    "## 9."
   ]
  },
  {
   "cell_type": "code",
   "execution_count": 50,
   "id": "ee0a9428",
   "metadata": {},
   "outputs": [
    {
     "data": {
      "text/plain": [
       "True"
      ]
     },
     "execution_count": 50,
     "metadata": {},
     "output_type": "execute_result"
    }
   ],
   "source": [
    "username = 'codeup'\n",
    "password = 'notastrongpassword'\n",
    "password_at_least_five_chars = True\n",
    "# password_length = len(password) >= 5\n",
    "username_more_than_twenty_chars = False\n",
    "# username_length = len(username) <= 20\n",
    "password != username"
   ]
  }
 ],
 "metadata": {
  "kernelspec": {
   "display_name": "Python 3 (ipykernel)",
   "language": "python",
   "name": "python3"
  },
  "language_info": {
   "codemirror_mode": {
    "name": "ipython",
    "version": 3
   },
   "file_extension": ".py",
   "mimetype": "text/x-python",
   "name": "python",
   "nbconvert_exporter": "python",
   "pygments_lexer": "ipython3",
   "version": "3.10.9"
  }
 },
 "nbformat": 4,
 "nbformat_minor": 5
}
