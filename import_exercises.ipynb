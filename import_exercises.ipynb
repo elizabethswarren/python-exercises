{
 "cells": [
  {
   "cell_type": "markdown",
   "id": "20df1de2",
   "metadata": {},
   "source": [
    "## 1.a."
   ]
  },
  {
   "cell_type": "code",
   "execution_count": 4,
   "id": "ea42155f",
   "metadata": {},
   "outputs": [],
   "source": [
    "import import_exercises as ie"
   ]
  },
  {
   "cell_type": "code",
   "execution_count": 5,
   "id": "3e0be253",
   "metadata": {},
   "outputs": [
    {
     "data": {
      "text/plain": [
       "'C'"
      ]
     },
     "execution_count": 5,
     "metadata": {},
     "output_type": "execute_result"
    }
   ],
   "source": [
    "ie.is_letter_grade(78)"
   ]
  },
  {
   "cell_type": "markdown",
   "id": "2236d4b4",
   "metadata": {},
   "source": [
    "## 2.a."
   ]
  },
  {
   "cell_type": "code",
   "execution_count": 7,
   "id": "1a6d7b0e",
   "metadata": {},
   "outputs": [],
   "source": [
    "import itertools "
   ]
  },
  {
   "cell_type": "code",
   "execution_count": 40,
   "id": "bbba867b",
   "metadata": {},
   "outputs": [
    {
     "name": "stdout",
     "output_type": "stream",
     "text": [
      "('a', '1')\n",
      "('a', '2')\n",
      "('a', '3')\n",
      "('b', '1')\n",
      "('b', '2')\n",
      "('b', '3')\n",
      "('c', '1')\n",
      "('c', '2')\n",
      "('c', '3')\n"
     ]
    }
   ],
   "source": [
    "for i in itertools.product('abc','123'):\n",
    "    print(i)"
   ]
  },
  {
   "cell_type": "markdown",
   "id": "a89a7ee9",
   "metadata": {},
   "source": [
    "## 2.b."
   ]
  },
  {
   "cell_type": "code",
   "execution_count": 16,
   "id": "4fc40810",
   "metadata": {},
   "outputs": [
    {
     "name": "stdout",
     "output_type": "stream",
     "text": [
      "('a', 'b')\n",
      "('a', 'c')\n",
      "('a', 'd')\n",
      "('b', 'c')\n",
      "('b', 'd')\n",
      "('c', 'd')\n"
     ]
    }
   ],
   "source": [
    "for x in itertools.combinations('abcd',2):\n",
    "    print(x)"
   ]
  },
  {
   "cell_type": "markdown",
   "id": "5198b181",
   "metadata": {},
   "source": [
    "## 2.c."
   ]
  },
  {
   "cell_type": "code",
   "execution_count": 18,
   "id": "9360e258",
   "metadata": {},
   "outputs": [
    {
     "name": "stdout",
     "output_type": "stream",
     "text": [
      "('a', 'b')\n",
      "('a', 'c')\n",
      "('a', 'd')\n",
      "('b', 'a')\n",
      "('b', 'c')\n",
      "('b', 'd')\n",
      "('c', 'a')\n",
      "('c', 'b')\n",
      "('c', 'd')\n",
      "('d', 'a')\n",
      "('d', 'b')\n",
      "('d', 'c')\n"
     ]
    }
   ],
   "source": [
    "for y in itertools.permutations('abcd',2):\n",
    "    print(y)"
   ]
  },
  {
   "cell_type": "markdown",
   "id": "5a2d9a73",
   "metadata": {},
   "source": [
    "## 3"
   ]
  },
  {
   "cell_type": "code",
   "execution_count": 32,
   "id": "e21f7765",
   "metadata": {},
   "outputs": [],
   "source": [
    "import json"
   ]
  },
  {
   "cell_type": "code",
   "execution_count": 33,
   "id": "0d67d297",
   "metadata": {
    "scrolled": false
   },
   "outputs": [],
   "source": [
    "profiles = json.load(open('profiles.json'))"
   ]
  },
  {
   "cell_type": "markdown",
   "id": "920648d2",
   "metadata": {},
   "source": [
    "## 3.a."
   ]
  },
  {
   "cell_type": "code",
   "execution_count": 2,
   "id": "65acf14a",
   "metadata": {},
   "outputs": [],
   "source": []
  },
  {
   "cell_type": "markdown",
   "id": "a0dee036",
   "metadata": {},
   "source": [
    "## 3.a."
   ]
  },
  {
   "cell_type": "code",
   "execution_count": 42,
   "id": "16fec404",
   "metadata": {},
   "outputs": [
    {
     "data": {
      "text/plain": [
       "19"
      ]
     },
     "execution_count": 42,
     "metadata": {},
     "output_type": "execute_result"
    }
   ],
   "source": [
    "len(profiles)    "
   ]
  },
  {
   "cell_type": "markdown",
   "id": "2150009a",
   "metadata": {},
   "source": [
    "## 3.b."
   ]
  },
  {
   "cell_type": "code",
   "execution_count": 17,
   "id": "df83af40",
   "metadata": {},
   "outputs": [
    {
     "name": "stdout",
     "output_type": "stream",
     "text": [
      "9\n"
     ]
    }
   ],
   "source": [
    "count = 0\n",
    "for profile in profiles:\n",
    "    if profile['isActive'] is True:\n",
    "        count += 1\n",
    "\n",
    "print(count)"
   ]
  },
  {
   "cell_type": "markdown",
   "id": "65200495",
   "metadata": {},
   "source": [
    "## 3.c."
   ]
  },
  {
   "cell_type": "code",
   "execution_count": 18,
   "id": "0dd9629e",
   "metadata": {
    "scrolled": true
   },
   "outputs": [
    {
     "name": "stdout",
     "output_type": "stream",
     "text": [
      "10\n"
     ]
    }
   ],
   "source": [
    "count = 0\n",
    "for profile in profiles:\n",
    "    if profile['isActive'] is False:\n",
    "        count += 1\n",
    "\n",
    "print(count)"
   ]
  },
  {
   "cell_type": "code",
   "execution_count": 46,
   "id": "d8e6bc85",
   "metadata": {},
   "outputs": [
    {
     "name": "stdout",
     "output_type": "stream",
     "text": [
      "[2097.02, 3654.02, 1536.02, 3919.64, 3681.39, 1694.42, 1214.1, 2930.31, 1944.15, 2839.22, 2467.31, 3304.99, 3844.42, 3594.99, 2940.24, 3062.41, 3067.82, 2646.76, 2227.79]\n"
     ]
    },
    {
     "data": {
      "text/plain": [
       "52667.02"
      ]
     },
     "execution_count": 46,
     "metadata": {},
     "output_type": "execute_result"
    }
   ],
   "source": [
    "balance_s = [profile['balance'] for profile in profiles]\n",
    "balances_f = []\n",
    "for balance in balance_s:\n",
    "    new_s = balance.replace('$', '').replace(',','')\n",
    "    balance_f = float(new_s)\n",
    "    balances_f.append(balance_f)\n",
    "\n",
    "print(balances_f)\n",
    "\n",
    "sum(balances_f)\n",
    "    "
   ]
  },
  {
   "cell_type": "code",
   "execution_count": 51,
   "id": "02640e75",
   "metadata": {},
   "outputs": [
    {
     "name": "stdout",
     "output_type": "stream",
     "text": [
      "[2097.02, 3654.02, 1536.02, 3919.64, 3681.39, 1694.42, 1214.1, 2930.31, 1944.15, 2839.22, 2467.31, 3304.99, 3844.42, 3594.99, 2940.24, 3062.41, 3067.82, 2646.76, 2227.79]\n"
     ]
    },
    {
     "data": {
      "text/plain": [
       "2771.9484210526316"
      ]
     },
     "execution_count": 51,
     "metadata": {},
     "output_type": "execute_result"
    }
   ],
   "source": [
    "import statistics\n",
    "balance_s = [profile['balance'] for profile in profiles]\n",
    "balances_f = []\n",
    "for balance in balance_s:\n",
    "    new_s = balance.replace('$', '').replace(',','')\n",
    "    balance_f = float(new_s)\n",
    "    balances_f.append(balance_f)\n",
    "    \n",
    "print(balances_f)\n",
    "\n",
    "statistics.mean(balances_f)"
   ]
  },
  {
   "cell_type": "code",
   "execution_count": 56,
   "id": "00b1d2ff",
   "metadata": {},
   "outputs": [
    {
     "data": {
      "text/plain": [
       "['$2,097.02',\n",
       " '$3,654.02',\n",
       " '$1,536.02',\n",
       " '$3,919.64',\n",
       " '$3,681.39',\n",
       " '$1,694.42',\n",
       " '$1,214.10',\n",
       " '$2,930.31',\n",
       " '$1,944.15',\n",
       " '$2,839.22',\n",
       " '$2,467.31',\n",
       " '$3,304.99',\n",
       " '$3,844.42',\n",
       " '$3,594.99',\n",
       " '$2,940.24',\n",
       " '$3,062.41',\n",
       " '$3,067.82',\n",
       " '$2,646.76',\n",
       " '$2,227.79']"
      ]
     },
     "execution_count": 56,
     "metadata": {},
     "output_type": "execute_result"
    }
   ],
   "source": [
    "user_b = [profile['balance'] for profile in profiles]\n",
    "user_b"
   ]
  },
  {
   "cell_type": "code",
   "execution_count": 64,
   "id": "da3beef7",
   "metadata": {},
   "outputs": [
    {
     "data": {
      "text/plain": [
       "['Avery Flynn']"
      ]
     },
     "execution_count": 64,
     "metadata": {},
     "output_type": "execute_result"
    }
   ],
   "source": [
    "user_with_lowest_b = [profile['name'] for profile in profiles if profile['balance'] == min(user_b)]\n",
    "user_with_lowest_b"
   ]
  },
  {
   "cell_type": "code",
   "execution_count": 63,
   "id": "d872e015",
   "metadata": {},
   "outputs": [
    {
     "data": {
      "text/plain": [
       "['Fay Hammond']"
      ]
     },
     "execution_count": 63,
     "metadata": {},
     "output_type": "execute_result"
    }
   ],
   "source": [
    "user_with_highest_b = [profile['name'] for profile in profiles if profile['balance'] == max(user_b)]\n",
    "user_with_highest_b"
   ]
  },
  {
   "cell_type": "code",
   "execution_count": 76,
   "id": "1c24e101",
   "metadata": {},
   "outputs": [
    {
     "data": {
      "text/plain": [
       "'strawberry'"
      ]
     },
     "execution_count": 76,
     "metadata": {},
     "output_type": "execute_result"
    }
   ],
   "source": [
    "fave_fruits = [profile['favoriteFruit'] for profile in profiles]\n",
    "\n",
    "most_common_fruit = max(fave_fruits)\n",
    "most_common_fruit"
   ]
  },
  {
   "cell_type": "code",
   "execution_count": 77,
   "id": "d53b7799",
   "metadata": {},
   "outputs": [
    {
     "data": {
      "text/plain": [
       "'apple'"
      ]
     },
     "execution_count": 77,
     "metadata": {},
     "output_type": "execute_result"
    }
   ],
   "source": [
    "fave_fruits = [profile['favoriteFruit'] for profile in profiles]\n",
    "\n",
    "least_common_fruit = min(fave_fruits)\n",
    "least_common_fruit"
   ]
  },
  {
   "cell_type": "code",
   "execution_count": 101,
   "id": "3637ec5f",
   "metadata": {},
   "outputs": [
    {
     "data": {
      "text/plain": [
       "[]"
      ]
     },
     "execution_count": 101,
     "metadata": {},
     "output_type": "execute_result"
    }
   ],
   "source": [
    "greeting_u = [profile['greeting'] for profile in profiles]\n",
    "#message_count = [user for user re.split('[0-9]',greeting_u) if user != '']\n",
    "# unread_msg = [profile['name'] for profile in profiles if profile['greeting']\n",
    "greeting_u\n",
    "unread_msg = [msg.split() for msg in greeting_u if msg.isdigit()]\n",
    "unread_msg"
   ]
  }
 ],
 "metadata": {
  "kernelspec": {
   "display_name": "Python 3 (ipykernel)",
   "language": "python",
   "name": "python3"
  },
  "language_info": {
   "codemirror_mode": {
    "name": "ipython",
    "version": 3
   },
   "file_extension": ".py",
   "mimetype": "text/x-python",
   "name": "python",
   "nbconvert_exporter": "python",
   "pygments_lexer": "ipython3",
   "version": "3.10.9"
  }
 },
 "nbformat": 4,
 "nbformat_minor": 5
}
