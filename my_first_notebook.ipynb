{
 "cells": [
  {
   "cell_type": "code",
   "execution_count": 4,
   "id": "319eeff0",
   "metadata": {},
   "outputs": [],
   "source": [
    "greeting = \"Hello World\""
   ]
  },
  {
   "cell_type": "code",
   "execution_count": 5,
   "id": "40dacdb9",
   "metadata": {},
   "outputs": [
    {
     "name": "stdout",
     "output_type": "stream",
     "text": [
      "Hello World\n"
     ]
    }
   ],
   "source": [
    "print(greeting)"
   ]
  },
  {
   "cell_type": "code",
   "execution_count": 6,
   "id": "bb460147",
   "metadata": {},
   "outputs": [
    {
     "data": {
      "text/plain": [
       "4"
      ]
     },
     "execution_count": 6,
     "metadata": {},
     "output_type": "execute_result"
    }
   ],
   "source": [
    "2 * 2"
   ]
  },
  {
   "cell_type": "markdown",
   "id": "68884e6c",
   "metadata": {},
   "source": [
    "A shortcut for running a cell and inserting a new cell below is option (half shrug) and enter."
   ]
  },
  {
   "cell_type": "markdown",
   "id": "61910269",
   "metadata": {},
   "source": [
    "To make a cell a markdown cell, hit escape to enter edit mode (blue selection box) and then hit 'm'."
   ]
  },
  {
   "cell_type": "markdown",
   "id": "e6910833",
   "metadata": {},
   "source": [
    "To change a markdown cell to a code cell, hit escape to enter edit mode and then hit 'y'."
   ]
  },
  {
   "cell_type": "code",
   "execution_count": null,
   "id": "c5599808",
   "metadata": {},
   "outputs": [],
   "source": []
  }
 ],
 "metadata": {
  "kernelspec": {
   "display_name": "Python 3 (ipykernel)",
   "language": "python",
   "name": "python3"
  },
  "language_info": {
   "codemirror_mode": {
    "name": "ipython",
    "version": 3
   },
   "file_extension": ".py",
   "mimetype": "text/x-python",
   "name": "python",
   "nbconvert_exporter": "python",
   "pygments_lexer": "ipython3",
   "version": "3.10.9"
  }
 },
 "nbformat": 4,
 "nbformat_minor": 5
}
